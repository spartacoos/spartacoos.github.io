{
 "cells": [
  {
   "cell_type": "code",
   "execution_count": 2,
   "id": "33afc7f2",
   "metadata": {},
   "outputs": [
    {
     "name": "stdout",
     "output_type": "stream",
     "text": [
      "14.4 ms ± 751 µs per loop (mean ± std. dev. of 10 runs, 100 loops each)\n",
      "7 ms ± 393 µs per loop (mean ± std. dev. of 10 runs, 100 loops each)\n"
     ]
    }
   ],
   "source": [
    "# Performance comparison\n",
    "import jax\n",
    "import jax.numpy as jnp\n",
    "import numpy as np\n",
    "\n",
    "x = np.random.rand(1000,1000)\n",
    "y = jnp.array(x)\n",
    "\n",
    "%timeit -n 100 -r 10 np.dot(x,x)\n",
    "# 14.4 ms ± 751 µs per loop (mean ± std. dev. of 10 runs, 100 loops each)\n",
    "\n",
    "%timeit -n 100 -r 10 jnp.dot(y,y).block_until_ready()\n",
    "# 7 ms ± 393 µs per loop (mean ± std. dev. of 10 runs, 100 loops each)"
   ]
  }
 ],
 "metadata": {
  "kernelspec": {
   "display_name": "Python 3 (ipykernel)",
   "language": "python",
   "name": "python3"
  },
  "language_info": {
   "codemirror_mode": {
    "name": "ipython",
    "version": 3
   },
   "file_extension": ".py",
   "mimetype": "text/x-python",
   "name": "python",
   "nbconvert_exporter": "python",
   "pygments_lexer": "ipython3",
   "version": "3.7.11"
  }
 },
 "nbformat": 4,
 "nbformat_minor": 5
}
